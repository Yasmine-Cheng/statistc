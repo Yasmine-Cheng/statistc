{
 "cells": [
  {
   "cell_type": "code",
   "execution_count": 32,
   "metadata": {},
   "outputs": [],
   "source": [
    "import pandas as pd\n",
    "import matplotlib.pyplot as plt\n",
    "plt.rcParams['font.sans-serif'] = ['Heiti TC']\n",
    "import seaborn as sns\n",
    "import numpy as np\n",
    "import pylab \n",
    "import scipy.stats as stats\n",
    "from scipy.stats import shapiro,ttest_rel\n",
    "from scipy.stats import pearsonr\n",
    "from datetime import date"
   ]
  },
  {
   "cell_type": "code",
   "execution_count": 43,
   "metadata": {},
   "outputs": [
    {
     "name": "stdout",
     "output_type": "stream",
     "text": [
      "    ID         出生  前測  年齡\n",
      "0    1 1942-11-13  38  81\n",
      "1    2 1963-10-07  38  60\n",
      "2    6 1957-01-09  37  66\n",
      "3    7 1935-05-17  38  88\n",
      "4    8 1952-04-18  38  71\n",
      "5    9 1935-05-07  38  88\n",
      "6   10 1933-09-14  38  90\n",
      "7   11 1930-09-02  38  93\n",
      "8   12 1942-09-24  38  81\n",
      "9   13 1943-04-08  38  80\n",
      "10  14 1960-09-03  38  63\n",
      "11  15 1971-03-24  38  52\n",
      "12  16 1951-04-26  38  72\n",
      "13  17 1956-06-29  38  67\n",
      "14  18 1951-03-24  38  72\n",
      "15  19 1955-08-12  38  68\n",
      "16  20 1953-02-05  38  70\n",
      "17  21 1956-09-25  38  67\n",
      "18  22 1954-06-10  38  69\n",
      "19  23 1937-05-06  38  86\n",
      "20  24 1957-10-09  38  66\n",
      "21  25 1937-07-05  38  86\n",
      "22  26 1943-06-10  38  80\n",
      "23  27 1938-12-25  38  85\n"
     ]
    }
   ],
   "source": [
    "before = pd.read_excel(\"機構住民測驗題前測_202311060056_654839ca1368a.xlsx\", sheet_name=\"前測\", usecols=['編號:', 'Unnamed: 119', '1.1 出生年月：'])\n",
    "before.rename(columns={'編號:': 'ID', 'Unnamed: 119': '前測', '1.1 出生年月：':'出生'}, inplace=True)\n",
    "before['出生'] = pd.to_datetime(before['出生'])\n",
    "before['年齡'] = before['出生'].apply(lambda x:date.today().year - x.year)\n",
    "before.drop_duplicates(inplace=True)\n",
    "print(before)"
   ]
  },
  {
   "cell_type": "code",
   "execution_count": 44,
   "metadata": {},
   "outputs": [
    {
     "name": "stdout",
     "output_type": "stream",
     "text": [
      "    ID  後測\n",
      "0    7  38\n",
      "1    9  38\n",
      "2   10  38\n",
      "3   11  38\n",
      "4   12  38\n",
      "5   13  38\n",
      "6   14  38\n",
      "7   15  38\n",
      "8   16  37\n",
      "9   17  38\n",
      "10  18  38\n",
      "11  19  38\n",
      "12  20  38\n",
      "13  21  38\n",
      "14  22  38\n",
      "15  23  38\n",
      "16  24  38\n",
      "17  25  38\n",
      "18  26  38\n",
      "19  27  38\n"
     ]
    }
   ],
   "source": [
    "after = pd.read_excel(\"機構住民測驗題前測_202311060056_654839ca1368a.xlsx\", sheet_name=\"後測\", usecols=['編號:', 'Unnamed: 51'])\n",
    "after.rename(columns={'編號:': 'ID', 'Unnamed: 51': '後測'}, inplace=True)\n",
    "print(after)"
   ]
  },
  {
   "cell_type": "code",
   "execution_count": 45,
   "metadata": {},
   "outputs": [
    {
     "data": {
      "text/html": [
       "<div>\n",
       "<style scoped>\n",
       "    .dataframe tbody tr th:only-of-type {\n",
       "        vertical-align: middle;\n",
       "    }\n",
       "\n",
       "    .dataframe tbody tr th {\n",
       "        vertical-align: top;\n",
       "    }\n",
       "\n",
       "    .dataframe thead th {\n",
       "        text-align: right;\n",
       "    }\n",
       "</style>\n",
       "<table border=\"1\" class=\"dataframe\">\n",
       "  <thead>\n",
       "    <tr style=\"text-align: right;\">\n",
       "      <th></th>\n",
       "      <th>ID</th>\n",
       "      <th>出生</th>\n",
       "      <th>前測</th>\n",
       "      <th>年齡</th>\n",
       "      <th>後測</th>\n",
       "    </tr>\n",
       "  </thead>\n",
       "  <tbody>\n",
       "    <tr>\n",
       "      <th>0</th>\n",
       "      <td>7</td>\n",
       "      <td>1935-05-17</td>\n",
       "      <td>38</td>\n",
       "      <td>88</td>\n",
       "      <td>38</td>\n",
       "    </tr>\n",
       "    <tr>\n",
       "      <th>1</th>\n",
       "      <td>9</td>\n",
       "      <td>1935-05-07</td>\n",
       "      <td>38</td>\n",
       "      <td>88</td>\n",
       "      <td>38</td>\n",
       "    </tr>\n",
       "    <tr>\n",
       "      <th>2</th>\n",
       "      <td>10</td>\n",
       "      <td>1933-09-14</td>\n",
       "      <td>38</td>\n",
       "      <td>90</td>\n",
       "      <td>38</td>\n",
       "    </tr>\n",
       "    <tr>\n",
       "      <th>3</th>\n",
       "      <td>11</td>\n",
       "      <td>1930-09-02</td>\n",
       "      <td>38</td>\n",
       "      <td>93</td>\n",
       "      <td>38</td>\n",
       "    </tr>\n",
       "    <tr>\n",
       "      <th>4</th>\n",
       "      <td>12</td>\n",
       "      <td>1942-09-24</td>\n",
       "      <td>38</td>\n",
       "      <td>81</td>\n",
       "      <td>38</td>\n",
       "    </tr>\n",
       "    <tr>\n",
       "      <th>5</th>\n",
       "      <td>13</td>\n",
       "      <td>1943-04-08</td>\n",
       "      <td>38</td>\n",
       "      <td>80</td>\n",
       "      <td>38</td>\n",
       "    </tr>\n",
       "    <tr>\n",
       "      <th>6</th>\n",
       "      <td>14</td>\n",
       "      <td>1960-09-03</td>\n",
       "      <td>38</td>\n",
       "      <td>63</td>\n",
       "      <td>38</td>\n",
       "    </tr>\n",
       "    <tr>\n",
       "      <th>7</th>\n",
       "      <td>15</td>\n",
       "      <td>1971-03-24</td>\n",
       "      <td>38</td>\n",
       "      <td>52</td>\n",
       "      <td>38</td>\n",
       "    </tr>\n",
       "    <tr>\n",
       "      <th>8</th>\n",
       "      <td>16</td>\n",
       "      <td>1951-04-26</td>\n",
       "      <td>38</td>\n",
       "      <td>72</td>\n",
       "      <td>37</td>\n",
       "    </tr>\n",
       "    <tr>\n",
       "      <th>9</th>\n",
       "      <td>17</td>\n",
       "      <td>1956-06-29</td>\n",
       "      <td>38</td>\n",
       "      <td>67</td>\n",
       "      <td>38</td>\n",
       "    </tr>\n",
       "    <tr>\n",
       "      <th>10</th>\n",
       "      <td>18</td>\n",
       "      <td>1951-03-24</td>\n",
       "      <td>38</td>\n",
       "      <td>72</td>\n",
       "      <td>38</td>\n",
       "    </tr>\n",
       "    <tr>\n",
       "      <th>11</th>\n",
       "      <td>19</td>\n",
       "      <td>1955-08-12</td>\n",
       "      <td>38</td>\n",
       "      <td>68</td>\n",
       "      <td>38</td>\n",
       "    </tr>\n",
       "    <tr>\n",
       "      <th>12</th>\n",
       "      <td>20</td>\n",
       "      <td>1953-02-05</td>\n",
       "      <td>38</td>\n",
       "      <td>70</td>\n",
       "      <td>38</td>\n",
       "    </tr>\n",
       "    <tr>\n",
       "      <th>13</th>\n",
       "      <td>21</td>\n",
       "      <td>1956-09-25</td>\n",
       "      <td>38</td>\n",
       "      <td>67</td>\n",
       "      <td>38</td>\n",
       "    </tr>\n",
       "    <tr>\n",
       "      <th>14</th>\n",
       "      <td>22</td>\n",
       "      <td>1954-06-10</td>\n",
       "      <td>38</td>\n",
       "      <td>69</td>\n",
       "      <td>38</td>\n",
       "    </tr>\n",
       "    <tr>\n",
       "      <th>15</th>\n",
       "      <td>23</td>\n",
       "      <td>1937-05-06</td>\n",
       "      <td>38</td>\n",
       "      <td>86</td>\n",
       "      <td>38</td>\n",
       "    </tr>\n",
       "    <tr>\n",
       "      <th>16</th>\n",
       "      <td>24</td>\n",
       "      <td>1957-10-09</td>\n",
       "      <td>38</td>\n",
       "      <td>66</td>\n",
       "      <td>38</td>\n",
       "    </tr>\n",
       "    <tr>\n",
       "      <th>17</th>\n",
       "      <td>25</td>\n",
       "      <td>1937-07-05</td>\n",
       "      <td>38</td>\n",
       "      <td>86</td>\n",
       "      <td>38</td>\n",
       "    </tr>\n",
       "    <tr>\n",
       "      <th>18</th>\n",
       "      <td>26</td>\n",
       "      <td>1943-06-10</td>\n",
       "      <td>38</td>\n",
       "      <td>80</td>\n",
       "      <td>38</td>\n",
       "    </tr>\n",
       "    <tr>\n",
       "      <th>19</th>\n",
       "      <td>27</td>\n",
       "      <td>1938-12-25</td>\n",
       "      <td>38</td>\n",
       "      <td>85</td>\n",
       "      <td>38</td>\n",
       "    </tr>\n",
       "  </tbody>\n",
       "</table>\n",
       "</div>"
      ],
      "text/plain": [
       "    ID         出生  前測  年齡  後測\n",
       "0    7 1935-05-17  38  88  38\n",
       "1    9 1935-05-07  38  88  38\n",
       "2   10 1933-09-14  38  90  38\n",
       "3   11 1930-09-02  38  93  38\n",
       "4   12 1942-09-24  38  81  38\n",
       "5   13 1943-04-08  38  80  38\n",
       "6   14 1960-09-03  38  63  38\n",
       "7   15 1971-03-24  38  52  38\n",
       "8   16 1951-04-26  38  72  37\n",
       "9   17 1956-06-29  38  67  38\n",
       "10  18 1951-03-24  38  72  38\n",
       "11  19 1955-08-12  38  68  38\n",
       "12  20 1953-02-05  38  70  38\n",
       "13  21 1956-09-25  38  67  38\n",
       "14  22 1954-06-10  38  69  38\n",
       "15  23 1937-05-06  38  86  38\n",
       "16  24 1957-10-09  38  66  38\n",
       "17  25 1937-07-05  38  86  38\n",
       "18  26 1943-06-10  38  80  38\n",
       "19  27 1938-12-25  38  85  38"
      ]
     },
     "execution_count": 45,
     "metadata": {},
     "output_type": "execute_result"
    }
   ],
   "source": [
    "df = pd.merge(before, after, on='ID')\n",
    "df"
   ]
  },
  {
   "cell_type": "code",
   "execution_count": 19,
   "metadata": {},
   "outputs": [],
   "source": [
    "df.to_excel('機構住戶.xlsx')"
   ]
  },
  {
   "cell_type": "code",
   "execution_count": 12,
   "metadata": {},
   "outputs": [
    {
     "name": "stdout",
     "output_type": "stream",
     "text": [
      "count    20.0\n",
      "mean     38.0\n",
      "std       0.0\n",
      "min      38.0\n",
      "25%      38.0\n",
      "50%      38.0\n",
      "75%      38.0\n",
      "max      38.0\n",
      "Name: 前測, dtype: float64\n",
      "====================\n",
      "count    20.000000\n",
      "mean     37.950000\n",
      "std       0.223607\n",
      "min      37.000000\n",
      "25%      38.000000\n",
      "50%      38.000000\n",
      "75%      38.000000\n",
      "max      38.000000\n",
      "Name: 後測, dtype: float64\n"
     ]
    }
   ],
   "source": [
    "print(df['前測'].describe())\n",
    "print('='*20)\n",
    "print(df['後測'].describe())"
   ]
  },
  {
   "cell_type": "code",
   "execution_count": 13,
   "metadata": {},
   "outputs": [
    {
     "data": {
      "image/png": "[encoded data removed]",
      "text/plain": [
       "<Figure size 432x288 with 1 Axes>"
      ]
     },
     "metadata": {
      "needs_background": "light"
     },
     "output_type": "display_data"
    }
   ],
   "source": [
    "sns.boxplot(x=\"variable\", y=\"value\", data=pd.melt(df[['前測', '後測']]))\n",
    "plt.title(\"機構住民前/後測分數分布箱型圖\")\n",
    "plt.show()"
   ]
  },
  {
   "cell_type": "code",
   "execution_count": 14,
   "metadata": {},
   "outputs": [
    {
     "data": {
      "image/png": "[encoded data removed]",
      "text/plain": [
       "<Figure size 432x288 with 1 Axes>"
      ]
     },
     "metadata": {
      "needs_background": "light"
     },
     "output_type": "display_data"
    }
   ],
   "source": [
    "df['差值'] = df['前測'] - df['後測']\n",
    "measurements = df['差值']\n",
    "stats.probplot(measurements, dist=\"norm\", plot=pylab)\n",
    "pylab.show()"
   ]
  },
  {
   "cell_type": "code",
   "execution_count": 15,
   "metadata": {},
   "outputs": [
    {
     "data": {
      "text/plain": [
       "ShapiroResult(statistic=0.2358737587928772, pvalue=2.6930604413166748e-09)"
      ]
     },
     "execution_count": 15,
     "metadata": {},
     "output_type": "execute_result"
    }
   ],
   "source": [
    "shapiro(df['差值'])"
   ]
  },
  {
   "cell_type": "code",
   "execution_count": 16,
   "metadata": {},
   "outputs": [
    {
     "name": "stdout",
     "output_type": "stream",
     "text": [
      "A方法均值: 38.0\n",
      "B方法均值: 37.95\n",
      "均值差: 0.04999999999999716\n"
     ]
    }
   ],
   "source": [
    "aa = np.mean(df['前測'])  \n",
    "print('A方法均值:',aa)\n",
    "bb = np.mean(df['後測'])  \n",
    "print('B方法均值:',bb) \n",
    "junzhicha = aa - bb  \n",
    "print('均值差:',junzhicha)"
   ]
  },
  {
   "cell_type": "code",
   "execution_count": 17,
   "metadata": {},
   "outputs": [
    {
     "data": {
      "image/png": "[encoded data removed]",
      "text/plain": [
       "<Figure size 360x360 with 1 Axes>"
      ]
     },
     "metadata": {
      "needs_background": "light"
     },
     "output_type": "display_data"
    }
   ],
   "source": [
    "sns.lmplot(y='後測', x = '前測',data=df)\n",
    "plt.show()"
   ]
  },
  {
   "cell_type": "code",
   "execution_count": 18,
   "metadata": {},
   "outputs": [
    {
     "name": "stdout",
     "output_type": "stream",
     "text": [
      "pearson系数： nan\n",
      "P-Value： nan\n"
     ]
    },
    {
     "name": "stderr",
     "output_type": "stream",
     "text": [
      "/Library/Frameworks/Python.framework/Versions/3.8/lib/python3.8/site-packages/scipy/stats/_stats_py.py:4424: ConstantInputWarning: An input array is constant; the correlation coefficient is not defined.\n",
      "  warnings.warn(stats.ConstantInputWarning(msg))\n"
     ]
    }
   ],
   "source": [
    "r = pearsonr(df['前測'], df['後測'])\n",
    "print(\"pearson系数：\",r[0])\n",
    "print(\"P-Value：\",r[1])"
   ]
  },
  {
   "cell_type": "code",
   "execution_count": 31,
   "metadata": {},
   "outputs": [
    {
     "name": "stdout",
     "output_type": "stream",
     "text": [
      "Wilcoxon statistic: 0.0\n",
      "P-value: 0.31731050786291415\n",
      "統計上不顯著，不能拒絕虛無假設，表示前後測無差異。\n"
     ]
    }
   ],
   "source": [
    "from scipy.stats import wilcoxon\n",
    "\n",
    "# 使用 Wilcoxon 符號秩測試 雙尾檢定\n",
    "statistic, p_value = wilcoxon(df['前測'].tolist(),  df['後測'].tolist(), alternative='two-sided', mode='exact')\n",
    "\n",
    "# 顯示結果\n",
    "print(\"Wilcoxon statistic:\", statistic)\n",
    "print(\"P-value:\", p_value)\n",
    "\n",
    "# 判斷結果是否顯著\n",
    "alpha = 0.05\n",
    "if p_value < alpha:\n",
    "    print(\"統計上顯著，可以拒絕虛無假設，表示前後測有差異。\")\n",
    "else:\n",
    "    print(\"統計上不顯著，不能拒絕虛無假設，表示前後測無差異。\")"
   ]
  },
  {
   "cell_type": "code",
   "execution_count": 27,
   "metadata": {},
   "outputs": [
    {
     "name": "stdout",
     "output_type": "stream",
     "text": [
      "後測正確填答率為：  95.0 %\n"
     ]
    }
   ],
   "source": [
    "print(\"後測正確填答率為： \", df['後測'].tolist().count(38)/len(df['後測'].tolist())*100, \"%\")"
   ]
  },
  {
   "cell_type": "code",
   "execution_count": 46,
   "metadata": {},
   "outputs": [
    {
     "name": "stdout",
     "output_type": "stream",
     "text": [
      "93\n",
      "52\n"
     ]
    }
   ],
   "source": [
    "print(df['年齡'].max())\n",
    "print(df['年齡'].min())"
   ]
  },
  {
   "cell_type": "code",
   "execution_count": null,
   "metadata": {},
   "outputs": [],
   "source": []
  }
 ],
 "metadata": {
  "kernelspec": {
   "display_name": "Python 3",
   "language": "python",
   "name": "python3"
  },
  "language_info": {
   "codemirror_mode": {
    "name": "ipython",
    "version": 3
   },
   "file_extension": ".py",
   "mimetype": "text/x-python",
   "name": "python",
   "nbconvert_exporter": "python",
   "pygments_lexer": "ipython3",
   "version": "3.8.10"
  },
  "orig_nbformat": 4
 },
 "nbformat": 4,
 "nbformat_minor": 2
}
