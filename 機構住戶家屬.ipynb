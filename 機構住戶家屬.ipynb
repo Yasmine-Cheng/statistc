{
 "cells": [
  {
   "cell_type": "code",
   "execution_count": 22,
   "metadata": {},
   "outputs": [],
   "source": [
    "# !pip3 install openpyxl"
   ]
  },
  {
   "cell_type": "code",
   "execution_count": 23,
   "metadata": {},
   "outputs": [],
   "source": [
    "# !pip3 install patsy"
   ]
  },
  {
   "cell_type": "code",
   "execution_count": 24,
   "metadata": {},
   "outputs": [],
   "source": [
    "import pandas as pd\n",
    "import matplotlib.pyplot as plt\n",
    "plt.rcParams['font.sans-serif'] = ['Heiti TC']\n",
    "import seaborn as sns\n",
    "import numpy as np\n",
    "import pylab \n",
    "import scipy.stats as stats\n",
    "from scipy.stats import shapiro,ttest_rel\n",
    "from scipy.stats import pearsonr"
   ]
  },
  {
   "cell_type": "code",
   "execution_count": 55,
   "metadata": {},
   "outputs": [
    {
     "name": "stdout",
     "output_type": "stream",
     "text": [
      "    ID         出生  前測  年齡\n",
      "0    1 1930-08-06  50  93\n",
      "1    2 1936-07-25  50  87\n",
      "2    3 1947-11-26  50  76\n",
      "3    4 1954-08-20  50  69\n",
      "4    5 1958-11-04  50  65\n",
      "5    6 1927-10-20  50  96\n",
      "6   10 1958-08-16  50  65\n",
      "7   19 1975-03-13  50  48\n",
      "8   20 1964-06-10  50  59\n",
      "9   21 1950-05-12  48  73\n",
      "10  22 1974-02-28  50  49\n",
      "11  23 1951-05-09  49  72\n",
      "12  24 1966-04-05  50  57\n",
      "13  25 1959-06-24  50  64\n",
      "14  26 1957-10-28  50  66\n",
      "15  27 1978-08-15  50  45\n",
      "16  28 1946-03-04  50  77\n",
      "17  29 1962-09-08  50  61\n",
      "18  30 1974-04-30  50  49\n",
      "19  32 2023-08-11  50   0\n",
      "20  33 1958-08-09  49  65\n",
      "21  37 1926-02-15  50  97\n",
      "22  41 1984-06-04  49  39\n",
      "23  42 1976-08-20  49  47\n",
      "24  45 1978-10-21  50  45\n",
      "25  48 2023-08-11  47   0\n",
      "26  50 1986-06-17  49  37\n"
     ]
    }
   ],
   "source": [
    "from datetime import date\n",
    "before = pd.read_excel(\"機構住民家屬測驗題前測_202311060100_65483abf0cd6f.xlsx\", sheet_name=\"前測\", usecols=['編號:', 'Unnamed: 129', '1.1 出生年月：民國______年______月'])\n",
    "before.rename(columns={'編號:': 'ID', 'Unnamed: 129': '前測', '1.1 出生年月：民國______年______月':'出生'}, inplace=True)\n",
    "before['出生'] = pd.to_datetime(before['出生'])\n",
    "before['年齡'] = before['出生'].apply(lambda x:date.today().year - x.year)\n",
    "before.drop_duplicates(inplace=True)\n",
    "print(before)"
   ]
  },
  {
   "cell_type": "code",
   "execution_count": 56,
   "metadata": {},
   "outputs": [
    {
     "name": "stdout",
     "output_type": "stream",
     "text": [
      "    ID    後測\n",
      "0    1  50.0\n",
      "1    2  50.0\n",
      "2    3  50.0\n",
      "3    4  50.0\n",
      "4    5  50.0\n",
      "5    6  50.0\n",
      "6   10  50.0\n",
      "14  26  50.0\n",
      "15  27  50.0\n",
      "16  28  50.0\n",
      "17  29  50.0\n",
      "18  30  50.0\n",
      "19  32  50.0\n",
      "20  33  50.0\n",
      "21  37  50.0\n",
      "22  41  50.0\n",
      "23  42  50.0\n",
      "24  45  50.0\n",
      "25  48  50.0\n"
     ]
    }
   ],
   "source": [
    "after = pd.read_excel(\"機構住民家屬測驗題前測_202311060100_65483abf0cd6f.xlsx\", sheet_name=\"後測\", usecols=['編號:', '備註'])\n",
    "after.rename(columns={'編號:': 'ID', '備註': '後測'}, inplace=True)\n",
    "after = after.dropna(axis='rows')\n",
    "print(after)"
   ]
  },
  {
   "cell_type": "code",
   "execution_count": 57,
   "metadata": {},
   "outputs": [
    {
     "data": {
      "text/html": [
       "<div>\n",
       "<style scoped>\n",
       "    .dataframe tbody tr th:only-of-type {\n",
       "        vertical-align: middle;\n",
       "    }\n",
       "\n",
       "    .dataframe tbody tr th {\n",
       "        vertical-align: top;\n",
       "    }\n",
       "\n",
       "    .dataframe thead th {\n",
       "        text-align: right;\n",
       "    }\n",
       "</style>\n",
       "<table border=\"1\" class=\"dataframe\">\n",
       "  <thead>\n",
       "    <tr style=\"text-align: right;\">\n",
       "      <th></th>\n",
       "      <th>ID</th>\n",
       "      <th>出生</th>\n",
       "      <th>前測</th>\n",
       "      <th>年齡</th>\n",
       "      <th>後測</th>\n",
       "    </tr>\n",
       "  </thead>\n",
       "  <tbody>\n",
       "    <tr>\n",
       "      <th>0</th>\n",
       "      <td>1</td>\n",
       "      <td>1930-08-06</td>\n",
       "      <td>50</td>\n",
       "      <td>93</td>\n",
       "      <td>50.0</td>\n",
       "    </tr>\n",
       "    <tr>\n",
       "      <th>1</th>\n",
       "      <td>2</td>\n",
       "      <td>1936-07-25</td>\n",
       "      <td>50</td>\n",
       "      <td>87</td>\n",
       "      <td>50.0</td>\n",
       "    </tr>\n",
       "    <tr>\n",
       "      <th>2</th>\n",
       "      <td>3</td>\n",
       "      <td>1947-11-26</td>\n",
       "      <td>50</td>\n",
       "      <td>76</td>\n",
       "      <td>50.0</td>\n",
       "    </tr>\n",
       "    <tr>\n",
       "      <th>3</th>\n",
       "      <td>4</td>\n",
       "      <td>1954-08-20</td>\n",
       "      <td>50</td>\n",
       "      <td>69</td>\n",
       "      <td>50.0</td>\n",
       "    </tr>\n",
       "    <tr>\n",
       "      <th>4</th>\n",
       "      <td>5</td>\n",
       "      <td>1958-11-04</td>\n",
       "      <td>50</td>\n",
       "      <td>65</td>\n",
       "      <td>50.0</td>\n",
       "    </tr>\n",
       "    <tr>\n",
       "      <th>5</th>\n",
       "      <td>6</td>\n",
       "      <td>1927-10-20</td>\n",
       "      <td>50</td>\n",
       "      <td>96</td>\n",
       "      <td>50.0</td>\n",
       "    </tr>\n",
       "    <tr>\n",
       "      <th>6</th>\n",
       "      <td>10</td>\n",
       "      <td>1958-08-16</td>\n",
       "      <td>50</td>\n",
       "      <td>65</td>\n",
       "      <td>50.0</td>\n",
       "    </tr>\n",
       "    <tr>\n",
       "      <th>7</th>\n",
       "      <td>26</td>\n",
       "      <td>1957-10-28</td>\n",
       "      <td>50</td>\n",
       "      <td>66</td>\n",
       "      <td>50.0</td>\n",
       "    </tr>\n",
       "    <tr>\n",
       "      <th>8</th>\n",
       "      <td>27</td>\n",
       "      <td>1978-08-15</td>\n",
       "      <td>50</td>\n",
       "      <td>45</td>\n",
       "      <td>50.0</td>\n",
       "    </tr>\n",
       "    <tr>\n",
       "      <th>9</th>\n",
       "      <td>28</td>\n",
       "      <td>1946-03-04</td>\n",
       "      <td>50</td>\n",
       "      <td>77</td>\n",
       "      <td>50.0</td>\n",
       "    </tr>\n",
       "    <tr>\n",
       "      <th>10</th>\n",
       "      <td>29</td>\n",
       "      <td>1962-09-08</td>\n",
       "      <td>50</td>\n",
       "      <td>61</td>\n",
       "      <td>50.0</td>\n",
       "    </tr>\n",
       "    <tr>\n",
       "      <th>11</th>\n",
       "      <td>30</td>\n",
       "      <td>1974-04-30</td>\n",
       "      <td>50</td>\n",
       "      <td>49</td>\n",
       "      <td>50.0</td>\n",
       "    </tr>\n",
       "    <tr>\n",
       "      <th>12</th>\n",
       "      <td>32</td>\n",
       "      <td>2023-08-11</td>\n",
       "      <td>50</td>\n",
       "      <td>0</td>\n",
       "      <td>50.0</td>\n",
       "    </tr>\n",
       "    <tr>\n",
       "      <th>13</th>\n",
       "      <td>33</td>\n",
       "      <td>1958-08-09</td>\n",
       "      <td>49</td>\n",
       "      <td>65</td>\n",
       "      <td>50.0</td>\n",
       "    </tr>\n",
       "    <tr>\n",
       "      <th>14</th>\n",
       "      <td>37</td>\n",
       "      <td>1926-02-15</td>\n",
       "      <td>50</td>\n",
       "      <td>97</td>\n",
       "      <td>50.0</td>\n",
       "    </tr>\n",
       "    <tr>\n",
       "      <th>15</th>\n",
       "      <td>41</td>\n",
       "      <td>1984-06-04</td>\n",
       "      <td>49</td>\n",
       "      <td>39</td>\n",
       "      <td>50.0</td>\n",
       "    </tr>\n",
       "    <tr>\n",
       "      <th>16</th>\n",
       "      <td>42</td>\n",
       "      <td>1976-08-20</td>\n",
       "      <td>49</td>\n",
       "      <td>47</td>\n",
       "      <td>50.0</td>\n",
       "    </tr>\n",
       "    <tr>\n",
       "      <th>17</th>\n",
       "      <td>45</td>\n",
       "      <td>1978-10-21</td>\n",
       "      <td>50</td>\n",
       "      <td>45</td>\n",
       "      <td>50.0</td>\n",
       "    </tr>\n",
       "    <tr>\n",
       "      <th>18</th>\n",
       "      <td>48</td>\n",
       "      <td>2023-08-11</td>\n",
       "      <td>47</td>\n",
       "      <td>0</td>\n",
       "      <td>50.0</td>\n",
       "    </tr>\n",
       "  </tbody>\n",
       "</table>\n",
       "</div>"
      ],
      "text/plain": [
       "    ID         出生  前測  年齡    後測\n",
       "0    1 1930-08-06  50  93  50.0\n",
       "1    2 1936-07-25  50  87  50.0\n",
       "2    3 1947-11-26  50  76  50.0\n",
       "3    4 1954-08-20  50  69  50.0\n",
       "4    5 1958-11-04  50  65  50.0\n",
       "5    6 1927-10-20  50  96  50.0\n",
       "6   10 1958-08-16  50  65  50.0\n",
       "7   26 1957-10-28  50  66  50.0\n",
       "8   27 1978-08-15  50  45  50.0\n",
       "9   28 1946-03-04  50  77  50.0\n",
       "10  29 1962-09-08  50  61  50.0\n",
       "11  30 1974-04-30  50  49  50.0\n",
       "12  32 2023-08-11  50   0  50.0\n",
       "13  33 1958-08-09  49  65  50.0\n",
       "14  37 1926-02-15  50  97  50.0\n",
       "15  41 1984-06-04  49  39  50.0\n",
       "16  42 1976-08-20  49  47  50.0\n",
       "17  45 1978-10-21  50  45  50.0\n",
       "18  48 2023-08-11  47   0  50.0"
      ]
     },
     "execution_count": 57,
     "metadata": {},
     "output_type": "execute_result"
    }
   ],
   "source": [
    "df = pd.merge(before, after, on='ID')\n",
    "df"
   ]
  },
  {
   "cell_type": "code",
   "execution_count": 35,
   "metadata": {},
   "outputs": [],
   "source": [
    "df.to_excel('機構住戶家屬.xlsx')"
   ]
  },
  {
   "cell_type": "code",
   "execution_count": 28,
   "metadata": {},
   "outputs": [
    {
     "name": "stdout",
     "output_type": "stream",
     "text": [
      "count    19.000000\n",
      "mean     49.684211\n",
      "std       0.749269\n",
      "min      47.000000\n",
      "25%      50.000000\n",
      "50%      50.000000\n",
      "75%      50.000000\n",
      "max      50.000000\n",
      "Name: 前測, dtype: float64\n",
      "====================\n",
      "count    19.0\n",
      "mean     50.0\n",
      "std       0.0\n",
      "min      50.0\n",
      "25%      50.0\n",
      "50%      50.0\n",
      "75%      50.0\n",
      "max      50.0\n",
      "Name: 後測, dtype: float64\n"
     ]
    }
   ],
   "source": [
    "print(df['前測'].describe())\n",
    "print('='*20)\n",
    "print(df['後測'].describe())"
   ]
  },
  {
   "cell_type": "code",
   "execution_count": 29,
   "metadata": {},
   "outputs": [
    {
     "data": {
      "image/png": "[encoded data removed]",
      "text/plain": [
       "<Figure size 432x288 with 1 Axes>"
      ]
     },
     "metadata": {
      "needs_background": "light"
     },
     "output_type": "display_data"
    }
   ],
   "source": [
    "sns.boxplot(x=\"variable\", y=\"value\", data=pd.melt(df[['前測', '後測']]))\n",
    "plt.title(\"機構住民家屬前/後測分數分布箱型圖\")\n",
    "plt.show()"
   ]
  },
  {
   "cell_type": "code",
   "execution_count": 30,
   "metadata": {},
   "outputs": [
    {
     "data": {
      "image/png": "[encoded data removed]",
      "text/plain": [
       "<Figure size 432x288 with 1 Axes>"
      ]
     },
     "metadata": {
      "needs_background": "light"
     },
     "output_type": "display_data"
    }
   ],
   "source": [
    "df['差值'] = df['前測'] - df['後測']\n",
    "measurements = df['差值']\n",
    "stats.probplot(measurements, dist=\"norm\", plot=pylab)\n",
    "pylab.show()"
   ]
  },
  {
   "cell_type": "code",
   "execution_count": 31,
   "metadata": {},
   "outputs": [
    {
     "data": {
      "text/plain": [
       "ShapiroResult(statistic=0.49079370498657227, pvalue=4.164090796621167e-07)"
      ]
     },
     "execution_count": 31,
     "metadata": {},
     "output_type": "execute_result"
    }
   ],
   "source": [
    "shapiro(df['差值'])"
   ]
  },
  {
   "cell_type": "code",
   "execution_count": 32,
   "metadata": {},
   "outputs": [
    {
     "name": "stdout",
     "output_type": "stream",
     "text": [
      "A方法均值: 49.68421052631579\n",
      "B方法均值: 50.0\n",
      "均值差: -0.3157894736842124\n"
     ]
    }
   ],
   "source": [
    "aa = np.mean(df['前測'])  \n",
    "print('A方法均值:',aa)\n",
    "bb = np.mean(df['後測'])  \n",
    "print('B方法均值:',bb) \n",
    "junzhicha = aa - bb  \n",
    "print('均值差:',junzhicha)"
   ]
  },
  {
   "cell_type": "code",
   "execution_count": 33,
   "metadata": {},
   "outputs": [
    {
     "data": {
      "image/png": "[encoded data removed]",
      "text/plain": [
       "<Figure size 360x360 with 1 Axes>"
      ]
     },
     "metadata": {
      "needs_background": "light"
     },
     "output_type": "display_data"
    }
   ],
   "source": [
    "sns.lmplot(y='後測', x = '前測',data=df)\n",
    "plt.show()"
   ]
  },
  {
   "cell_type": "code",
   "execution_count": 34,
   "metadata": {},
   "outputs": [
    {
     "name": "stdout",
     "output_type": "stream",
     "text": [
      "pearson系数： nan\n",
      "P-Value： nan\n"
     ]
    },
    {
     "name": "stderr",
     "output_type": "stream",
     "text": [
      "/Library/Frameworks/Python.framework/Versions/3.8/lib/python3.8/site-packages/scipy/stats/_stats_py.py:4424: ConstantInputWarning: An input array is constant; the correlation coefficient is not defined.\n",
      "  warnings.warn(stats.ConstantInputWarning(msg))\n"
     ]
    }
   ],
   "source": [
    "r = pearsonr(df['前測'], df['後測'])\n",
    "print(\"pearson系数：\",r[0])\n",
    "print(\"P-Value：\",r[1])"
   ]
  },
  {
   "cell_type": "code",
   "execution_count": 44,
   "metadata": {},
   "outputs": [
    {
     "name": "stdout",
     "output_type": "stream",
     "text": [
      "Wilcoxon statistic: 0.0\n",
      "P-value: 0.05878172135535886\n",
      "統計上不顯著，不能拒絕虛無假設，表示前後測無差異。\n"
     ]
    }
   ],
   "source": [
    "from scipy.stats import wilcoxon\n",
    "\n",
    "# 使用 Wilcoxon 符號秩測試  雙尾檢定\n",
    "statistic, p_value = wilcoxon(df['前測'].tolist(),  df['後測'].tolist(), alternative='two-sided')\n",
    "\n",
    "# 顯示結果\n",
    "print(\"Wilcoxon statistic:\", statistic)\n",
    "print(\"P-value:\", p_value)\n",
    "\n",
    "# 判斷結果是否顯著\n",
    "alpha = 0.05\n",
    "if p_value < alpha:\n",
    "    print(\"統計上顯著，可以拒絕虛無假設，表示前後測有差異。\")\n",
    "else:\n",
    "    print(\"統計上不顯著，不能拒絕虛無假設，表示前後測無差異。\")"
   ]
  },
  {
   "cell_type": "code",
   "execution_count": 41,
   "metadata": {},
   "outputs": [
    {
     "name": "stdout",
     "output_type": "stream",
     "text": [
      "後測正確填答率為：  100.0 %\n"
     ]
    }
   ],
   "source": [
    "print(\"後測正確填答率為： \", df['後測'].tolist().count(50)/len(df['後測'].tolist())*100, \"%\")"
   ]
  },
  {
   "cell_type": "code",
   "execution_count": 58,
   "metadata": {},
   "outputs": [
    {
     "name": "stdout",
     "output_type": "stream",
     "text": [
      "97\n",
      "0\n"
     ]
    }
   ],
   "source": [
    "print(df['年齡'].max())\n",
    "print(df['年齡'].min())"
   ]
  },
  {
   "cell_type": "code",
   "execution_count": 60,
   "metadata": {},
   "outputs": [
    {
     "data": {
      "text/html": [
       "<div>\n",
       "<style scoped>\n",
       "    .dataframe tbody tr th:only-of-type {\n",
       "        vertical-align: middle;\n",
       "    }\n",
       "\n",
       "    .dataframe tbody tr th {\n",
       "        vertical-align: top;\n",
       "    }\n",
       "\n",
       "    .dataframe thead th {\n",
       "        text-align: right;\n",
       "    }\n",
       "</style>\n",
       "<table border=\"1\" class=\"dataframe\">\n",
       "  <thead>\n",
       "    <tr style=\"text-align: right;\">\n",
       "      <th></th>\n",
       "      <th>ID</th>\n",
       "      <th>出生</th>\n",
       "      <th>前測</th>\n",
       "      <th>年齡</th>\n",
       "      <th>後測</th>\n",
       "    </tr>\n",
       "  </thead>\n",
       "  <tbody>\n",
       "  </tbody>\n",
       "</table>\n",
       "</div>"
      ],
      "text/plain": [
       "Empty DataFrame\n",
       "Columns: [ID, 出生, 前測, 年齡, 後測]\n",
       "Index: []"
      ]
     },
     "execution_count": 60,
     "metadata": {},
     "output_type": "execute_result"
    }
   ],
   "source": [
    "df[df['年齡']>100]"
   ]
  },
  {
   "cell_type": "code",
   "execution_count": null,
   "metadata": {},
   "outputs": [],
   "source": []
  }
 ],
 "metadata": {
  "kernelspec": {
   "display_name": "Python 3",
   "language": "python",
   "name": "python3"
  },
  "language_info": {
   "codemirror_mode": {
    "name": "ipython",
    "version": 3
   },
   "file_extension": ".py",
   "mimetype": "text/x-python",
   "name": "python",
   "nbconvert_exporter": "python",
   "pygments_lexer": "ipython3",
   "version": "3.8.10"
  },
  "orig_nbformat": 4
 },
 "nbformat": 4,
 "nbformat_minor": 2
}
