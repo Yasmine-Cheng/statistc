{
 "cells": [
  {
   "cell_type": "code",
   "execution_count": 1,
   "metadata": {},
   "outputs": [],
   "source": [
    "# !pip3 install openpyxl"
   ]
  },
  {
   "cell_type": "code",
   "execution_count": 2,
   "metadata": {},
   "outputs": [],
   "source": [
    "# !pip3 install patsy"
   ]
  },
  {
   "cell_type": "code",
   "execution_count": 52,
   "metadata": {},
   "outputs": [],
   "source": [
    "import pandas as pd\n",
    "import matplotlib.pyplot as plt\n",
    "plt.rcParams['font.sans-serif'] = ['Heiti TC']\n",
    "import seaborn as sns\n",
    "import numpy as np\n",
    "import pylab \n",
    "import scipy.stats as stats\n",
    "from scipy.stats import shapiro,ttest_rel\n",
    "from scipy.stats import pearsonr\n",
    "from datetime import date"
   ]
  },
  {
   "cell_type": "code",
   "execution_count": 101,
   "metadata": {},
   "outputs": [
    {
     "name": "stdout",
     "output_type": "stream",
     "text": [
      "     ID 題目一 題目二 題目三         出生   性別  前測   年齡\n",
      "1    89   O   O   O 1985-04-19  0.女  48   38\n",
      "2    90   O   O   O 1988-10-26  0.女  49   35\n",
      "3    91   O   O   O 1951-09-02  0.女  50   72\n",
      "4    92   O   O   O 1950-11-22  0.女  49   73\n",
      "5    93   O   O   O 1842-10-19  1.男  49  181\n",
      "..   ..  ..  ..  ..        ...  ...  ..  ...\n",
      "101  84   O   O   O 1976-09-03  0.女  50   47\n",
      "102  85   O   O   O 1954-07-14  1.男  50   69\n",
      "103  86   O   O   O 1956-04-23  0.女  50   67\n",
      "104  87   O   O   O 1950-05-13  1.男  50   73\n",
      "105  88   O   O   O 1955-08-26  1.男  49   68\n",
      "\n",
      "[105 rows x 8 columns]\n"
     ]
    }
   ],
   "source": [
    "before = pd.read_excel(\"專業人員測驗題前測_202311060106_65483c0b70633.xlsx\", sheet_name=\"前測\", usecols=['編號:', 'Unnamed: 136', '1.1 出生年月：民國______年______月', '1.安寧緩和醫療條例是為了尊重末期病人的醫療意願及保障權益制定的法律。', '2.安寧緩和醫療指的是為了減輕或免除末期病人之生理、心理及靈性痛苦，所給予的緩解性、支持性的醫療照護，以增進生活品質。', '3.末期病人指罹患嚴重傷病，經醫師診斷認為無法治癒，且有醫學上之證據，近期內病程進行至死亡已無法避免者。', '1.2 性別：'])\n",
    "before.rename(columns={'編號:': 'ID', 'Unnamed: 136': '前測', '1.1 出生年月：民國______年______月':'出生', '1.安寧緩和醫療條例是為了尊重末期病人的醫療意願及保障權益制定的法律。':'題目一', '2.安寧緩和醫療指的是為了減輕或免除末期病人之生理、心理及靈性痛苦，所給予的緩解性、支持性的醫療照護，以增進生活品質。':'題目二', '3.末期病人指罹患嚴重傷病，經醫師診斷認為無法治癒，且有醫學上之證據，近期內病程進行至死亡已無法避免者。':'題目三', '1.2 性別：':'性別'}, inplace=True)\n",
    "before['出生'] = pd.to_datetime(before['出生'])\n",
    "before['年齡'] = before['出生'].apply(lambda x:date.today().year - x.year)\n",
    "before.drop_duplicates(inplace=True)\n",
    "before = before.iloc[1: , :]\n",
    "print(before)"
   ]
  },
  {
   "cell_type": "code",
   "execution_count": 102,
   "metadata": {},
   "outputs": [
    {
     "name": "stdout",
     "output_type": "stream",
     "text": [
      "    ID  後測\n",
      "0   89  50\n",
      "1   90  50\n",
      "2   91  50\n",
      "3   92  50\n",
      "4   93  49\n",
      "..  ..  ..\n",
      "94  88  50\n",
      "95  25  49\n",
      "96  28  50\n",
      "97  26  50\n",
      "98  29  50\n",
      "\n",
      "[99 rows x 2 columns]\n"
     ]
    }
   ],
   "source": [
    "import pandas as pd\n",
    "    \n",
    "after = pd.read_excel(\"專業人員測驗題前測_202311060106_65483c0b70633.xlsx\", sheet_name=\"後測\", usecols=['編號:', 'Unnamed: 64'])\n",
    "after.rename(columns={'編號:': 'ID', 'Unnamed: 64': '後測'}, inplace=True)\n",
    "print(after)"
   ]
  },
  {
   "cell_type": "code",
   "execution_count": 103,
   "metadata": {},
   "outputs": [
    {
     "data": {
      "text/html": [
       "<div>\n",
       "<style scoped>\n",
       "    .dataframe tbody tr th:only-of-type {\n",
       "        vertical-align: middle;\n",
       "    }\n",
       "\n",
       "    .dataframe tbody tr th {\n",
       "        vertical-align: top;\n",
       "    }\n",
       "\n",
       "    .dataframe thead th {\n",
       "        text-align: right;\n",
       "    }\n",
       "</style>\n",
       "<table border=\"1\" class=\"dataframe\">\n",
       "  <thead>\n",
       "    <tr style=\"text-align: right;\">\n",
       "      <th></th>\n",
       "      <th>ID</th>\n",
       "      <th>題目一</th>\n",
       "      <th>題目二</th>\n",
       "      <th>題目三</th>\n",
       "      <th>出生</th>\n",
       "      <th>性別</th>\n",
       "      <th>前測</th>\n",
       "      <th>年齡</th>\n",
       "      <th>後測</th>\n",
       "    </tr>\n",
       "  </thead>\n",
       "  <tbody>\n",
       "    <tr>\n",
       "      <th>0</th>\n",
       "      <td>89</td>\n",
       "      <td>O</td>\n",
       "      <td>O</td>\n",
       "      <td>O</td>\n",
       "      <td>1985-04-19</td>\n",
       "      <td>0.女</td>\n",
       "      <td>48</td>\n",
       "      <td>38</td>\n",
       "      <td>50</td>\n",
       "    </tr>\n",
       "    <tr>\n",
       "      <th>1</th>\n",
       "      <td>90</td>\n",
       "      <td>O</td>\n",
       "      <td>O</td>\n",
       "      <td>O</td>\n",
       "      <td>1988-10-26</td>\n",
       "      <td>0.女</td>\n",
       "      <td>49</td>\n",
       "      <td>35</td>\n",
       "      <td>50</td>\n",
       "    </tr>\n",
       "    <tr>\n",
       "      <th>2</th>\n",
       "      <td>91</td>\n",
       "      <td>O</td>\n",
       "      <td>O</td>\n",
       "      <td>O</td>\n",
       "      <td>1951-09-02</td>\n",
       "      <td>0.女</td>\n",
       "      <td>50</td>\n",
       "      <td>72</td>\n",
       "      <td>50</td>\n",
       "    </tr>\n",
       "    <tr>\n",
       "      <th>3</th>\n",
       "      <td>92</td>\n",
       "      <td>O</td>\n",
       "      <td>O</td>\n",
       "      <td>O</td>\n",
       "      <td>1950-11-22</td>\n",
       "      <td>0.女</td>\n",
       "      <td>49</td>\n",
       "      <td>73</td>\n",
       "      <td>50</td>\n",
       "    </tr>\n",
       "    <tr>\n",
       "      <th>4</th>\n",
       "      <td>93</td>\n",
       "      <td>O</td>\n",
       "      <td>O</td>\n",
       "      <td>O</td>\n",
       "      <td>1842-10-19</td>\n",
       "      <td>1.男</td>\n",
       "      <td>49</td>\n",
       "      <td>181</td>\n",
       "      <td>49</td>\n",
       "    </tr>\n",
       "    <tr>\n",
       "      <th>...</th>\n",
       "      <td>...</td>\n",
       "      <td>...</td>\n",
       "      <td>...</td>\n",
       "      <td>...</td>\n",
       "      <td>...</td>\n",
       "      <td>...</td>\n",
       "      <td>...</td>\n",
       "      <td>...</td>\n",
       "      <td>...</td>\n",
       "    </tr>\n",
       "    <tr>\n",
       "      <th>94</th>\n",
       "      <td>84</td>\n",
       "      <td>O</td>\n",
       "      <td>O</td>\n",
       "      <td>O</td>\n",
       "      <td>1976-09-03</td>\n",
       "      <td>0.女</td>\n",
       "      <td>50</td>\n",
       "      <td>47</td>\n",
       "      <td>50</td>\n",
       "    </tr>\n",
       "    <tr>\n",
       "      <th>95</th>\n",
       "      <td>85</td>\n",
       "      <td>O</td>\n",
       "      <td>O</td>\n",
       "      <td>O</td>\n",
       "      <td>1954-07-14</td>\n",
       "      <td>1.男</td>\n",
       "      <td>50</td>\n",
       "      <td>69</td>\n",
       "      <td>50</td>\n",
       "    </tr>\n",
       "    <tr>\n",
       "      <th>96</th>\n",
       "      <td>86</td>\n",
       "      <td>O</td>\n",
       "      <td>O</td>\n",
       "      <td>O</td>\n",
       "      <td>1956-04-23</td>\n",
       "      <td>0.女</td>\n",
       "      <td>50</td>\n",
       "      <td>67</td>\n",
       "      <td>50</td>\n",
       "    </tr>\n",
       "    <tr>\n",
       "      <th>97</th>\n",
       "      <td>87</td>\n",
       "      <td>O</td>\n",
       "      <td>O</td>\n",
       "      <td>O</td>\n",
       "      <td>1950-05-13</td>\n",
       "      <td>1.男</td>\n",
       "      <td>50</td>\n",
       "      <td>73</td>\n",
       "      <td>50</td>\n",
       "    </tr>\n",
       "    <tr>\n",
       "      <th>98</th>\n",
       "      <td>88</td>\n",
       "      <td>O</td>\n",
       "      <td>O</td>\n",
       "      <td>O</td>\n",
       "      <td>1955-08-26</td>\n",
       "      <td>1.男</td>\n",
       "      <td>49</td>\n",
       "      <td>68</td>\n",
       "      <td>50</td>\n",
       "    </tr>\n",
       "  </tbody>\n",
       "</table>\n",
       "<p>99 rows × 9 columns</p>\n",
       "</div>"
      ],
      "text/plain": [
       "    ID 題目一 題目二 題目三         出生   性別  前測   年齡  後測\n",
       "0   89   O   O   O 1985-04-19  0.女  48   38  50\n",
       "1   90   O   O   O 1988-10-26  0.女  49   35  50\n",
       "2   91   O   O   O 1951-09-02  0.女  50   72  50\n",
       "3   92   O   O   O 1950-11-22  0.女  49   73  50\n",
       "4   93   O   O   O 1842-10-19  1.男  49  181  49\n",
       "..  ..  ..  ..  ..        ...  ...  ..  ...  ..\n",
       "94  84   O   O   O 1976-09-03  0.女  50   47  50\n",
       "95  85   O   O   O 1954-07-14  1.男  50   69  50\n",
       "96  86   O   O   O 1956-04-23  0.女  50   67  50\n",
       "97  87   O   O   O 1950-05-13  1.男  50   73  50\n",
       "98  88   O   O   O 1955-08-26  1.男  49   68  50\n",
       "\n",
       "[99 rows x 9 columns]"
      ]
     },
     "execution_count": 103,
     "metadata": {},
     "output_type": "execute_result"
    }
   ],
   "source": [
    "df = pd.merge(before, after, on='ID')\n",
    "df"
   ]
  },
  {
   "cell_type": "code",
   "execution_count": 106,
   "metadata": {},
   "outputs": [
    {
     "data": {
      "text/plain": [
       "0.7676767676767676"
      ]
     },
     "execution_count": 106,
     "metadata": {},
     "output_type": "execute_result"
    }
   ],
   "source": [
    "len(df[df['性別']=='0.女'])/len(df)"
   ]
  },
  {
   "cell_type": "code",
   "execution_count": 105,
   "metadata": {},
   "outputs": [
    {
     "data": {
      "text/plain": [
       "1.0"
      ]
     },
     "execution_count": 105,
     "metadata": {},
     "output_type": "execute_result"
    }
   ],
   "source": [
    "len(df[df['題目二']=='O'])/len(df)"
   ]
  },
  {
   "cell_type": "code",
   "execution_count": 59,
   "metadata": {},
   "outputs": [
    {
     "data": {
      "text/plain": [
       "0.99"
      ]
     },
     "execution_count": 59,
     "metadata": {},
     "output_type": "execute_result"
    }
   ],
   "source": [
    "len(df[df['題目三']=='O'])/len(df)"
   ]
  },
  {
   "cell_type": "code",
   "execution_count": 16,
   "metadata": {},
   "outputs": [],
   "source": [
    "df.to_excel('專業人員.xlsx')"
   ]
  },
  {
   "cell_type": "code",
   "execution_count": 60,
   "metadata": {},
   "outputs": [
    {
     "name": "stdout",
     "output_type": "stream",
     "text": [
      "count    100.000000\n",
      "mean      49.100000\n",
      "std        1.566699\n",
      "min       43.000000\n",
      "25%       49.000000\n",
      "50%       50.000000\n",
      "75%       50.000000\n",
      "max       50.000000\n",
      "Name: 前測, dtype: float64\n",
      "====================\n",
      "count    100.000000\n",
      "mean      49.640000\n",
      "std        0.915854\n",
      "min       45.000000\n",
      "25%       50.000000\n",
      "50%       50.000000\n",
      "75%       50.000000\n",
      "max       50.000000\n",
      "Name: 後測, dtype: float64\n"
     ]
    }
   ],
   "source": [
    "print(df['前測'].describe())\n",
    "print('='*20)\n",
    "print(df['後測'].describe())"
   ]
  },
  {
   "cell_type": "code",
   "execution_count": 61,
   "metadata": {},
   "outputs": [
    {
     "data": {
      "image/png": "[encoded data removed]",
      "text/plain": [
       "<Figure size 432x288 with 1 Axes>"
      ]
     },
     "metadata": {
      "needs_background": "light"
     },
     "output_type": "display_data"
    }
   ],
   "source": [
    "sns.boxplot(x=\"variable\", y=\"value\", data=pd.melt(df[['前測', '後測']]))\n",
    "plt.title(\"專業人員前/後測分數分布箱型圖\")\n",
    "plt.show()"
   ]
  },
  {
   "cell_type": "code",
   "execution_count": 62,
   "metadata": {},
   "outputs": [
    {
     "data": {
      "image/png": "[encoded data removed]",
      "text/plain": [
       "<Figure size 432x288 with 1 Axes>"
      ]
     },
     "metadata": {
      "needs_background": "light"
     },
     "output_type": "display_data"
    }
   ],
   "source": [
    "df['差值'] = df['前測'] - df['後測']\n",
    "measurements = df['差值']\n",
    "stats.probplot(measurements, dist=\"norm\", plot=pylab)\n",
    "pylab.show()"
   ]
  },
  {
   "cell_type": "code",
   "execution_count": 63,
   "metadata": {},
   "outputs": [
    {
     "data": {
      "text/plain": [
       "ShapiroResult(statistic=0.7401949167251587, pvalue=5.195609567576476e-12)"
      ]
     },
     "execution_count": 63,
     "metadata": {},
     "output_type": "execute_result"
    }
   ],
   "source": [
    "shapiro(df['差值'])"
   ]
  },
  {
   "cell_type": "code",
   "execution_count": 64,
   "metadata": {},
   "outputs": [
    {
     "name": "stdout",
     "output_type": "stream",
     "text": [
      "A方法均值: 49.1\n",
      "B方法均值: 49.64\n",
      "均值差: -0.5399999999999991\n"
     ]
    }
   ],
   "source": [
    "aa = np.mean(df['前測'])  \n",
    "print('A方法均值:',aa)\n",
    "bb = np.mean(df['後測'])  \n",
    "print('B方法均值:',bb) \n",
    "junzhicha = aa - bb  \n",
    "print('均值差:',junzhicha)"
   ]
  },
  {
   "cell_type": "code",
   "execution_count": 65,
   "metadata": {},
   "outputs": [
    {
     "data": {
      "image/png": "[encoded data removed]",
      "text/plain": [
       "<Figure size 360x360 with 1 Axes>"
      ]
     },
     "metadata": {
      "needs_background": "light"
     },
     "output_type": "display_data"
    }
   ],
   "source": [
    "sns.lmplot(y='後測', x = '前測',data=df)\n",
    "plt.show()"
   ]
  },
  {
   "cell_type": "code",
   "execution_count": 66,
   "metadata": {},
   "outputs": [
    {
     "name": "stdout",
     "output_type": "stream",
     "text": [
      "pearson系数： 0.39844614022097524\n",
      "P-Value： 4.030395354930217e-05\n"
     ]
    }
   ],
   "source": [
    "r = pearsonr(df['前測'], df['後測'])\n",
    "print(\"pearson系数：\",r[0])\n",
    "print(\"P-Value：\",r[1])"
   ]
  },
  {
   "cell_type": "code",
   "execution_count": 67,
   "metadata": {},
   "outputs": [
    {
     "name": "stdout",
     "output_type": "stream",
     "text": [
      "Wilcoxon statistic: 155.0\n",
      "P-value: 0.0001445856996807968\n",
      "統計上顯著，可以拒絕虛無假設，表示前後測有差異。\n"
     ]
    }
   ],
   "source": [
    "from scipy.stats import wilcoxon\n",
    "\n",
    "# 使用 Wilcoxon 符號秩測試 雙尾檢定\n",
    "statistic, p_value = wilcoxon(df['前測'].tolist(),  df['後測'].tolist(), alternative='two-sided')\n",
    "\n",
    "# 顯示結果\n",
    "print(\"Wilcoxon statistic:\", statistic)\n",
    "print(\"P-value:\", p_value)\n",
    "\n",
    "# 判斷結果是否顯著\n",
    "alpha = 0.05\n",
    "if p_value < alpha:\n",
    "    print(\"統計上顯著，可以拒絕虛無假設，表示前後測有差異。\")\n",
    "else:\n",
    "    print(\"統計上不顯著，不能拒絕虛無假設，表示前後測無差異。\")\n"
   ]
  },
  {
   "cell_type": "code",
   "execution_count": 68,
   "metadata": {},
   "outputs": [
    {
     "name": "stdout",
     "output_type": "stream",
     "text": [
      "後測正確填答率為：  79.0 %\n"
     ]
    }
   ],
   "source": [
    "print(\"後測正確填答率為： \", df['後測'].tolist().count(50)/len(df['後測'].tolist())*100, \"%\")"
   ]
  },
  {
   "cell_type": "code",
   "execution_count": 69,
   "metadata": {},
   "outputs": [
    {
     "name": "stdout",
     "output_type": "stream",
     "text": [
      "181\n",
      "0\n"
     ]
    }
   ],
   "source": [
    "print(df['年齡'].max())\n",
    "print(df['年齡'].min())"
   ]
  },
  {
   "cell_type": "code",
   "execution_count": 71,
   "metadata": {},
   "outputs": [
    {
     "name": "stdout",
     "output_type": "stream",
     "text": [
      "[49, 49, 48, 49, 50, 49, 49, 45, 50, 50, 50, 50, 49, 49, 50, 50, 49, 50, 46, 49, 50, 45, 50, 50, 44, 49, 50, 50, 50, 50, 50, 47, 50, 50, 49, 50, 50, 50, 50, 44, 44, 50, 48, 46, 50, 50, 48, 49, 50, 50, 49, 50, 50, 49, 49, 50, 48, 49, 47, 47, 50, 50, 50, 50, 50, 49, 49, 48, 49, 50, 50, 50, 50, 50, 50, 50, 50, 50, 50, 50, 50, 43, 50, 50, 50, 50, 49, 50, 50, 50, 49, 48, 48, 50, 47, 50, 50, 50, 50, 50]\n"
     ]
    }
   ],
   "source": [
    "print(df['前測'].tolist())"
   ]
  },
  {
   "cell_type": "code",
   "execution_count": 73,
   "metadata": {},
   "outputs": [
    {
     "name": "stdout",
     "output_type": "stream",
     "text": [
      "100\n"
     ]
    }
   ],
   "source": [
    "print(len(df['後測'].tolist()))"
   ]
  },
  {
   "cell_type": "code",
   "execution_count": 83,
   "metadata": {},
   "outputs": [
    {
     "data": {
      "text/plain": [
       "46.41237113402062"
      ]
     },
     "execution_count": 83,
     "metadata": {},
     "output_type": "execute_result"
    }
   ],
   "source": [
    "import statistics\n",
    "statistics.mean(df[(df['年齡']>3)&(df['年齡']<100)]['年齡'].tolist())"
   ]
  },
  {
   "cell_type": "code",
   "execution_count": 107,
   "metadata": {},
   "outputs": [
    {
     "data": {
      "text/plain": [
       "73"
      ]
     },
     "execution_count": 107,
     "metadata": {},
     "output_type": "execute_result"
    }
   ],
   "source": [
    "max(df[(df['年齡']>3)&(df['年齡']<100)]['年齡'].tolist())"
   ]
  },
  {
   "cell_type": "code",
   "execution_count": 108,
   "metadata": {},
   "outputs": [
    {
     "data": {
      "text/plain": [
       "21"
      ]
     },
     "execution_count": 108,
     "metadata": {},
     "output_type": "execute_result"
    }
   ],
   "source": [
    "min(df[(df['年齡']>3)&(df['年齡']<100)]['年齡'].tolist())"
   ]
  },
  {
   "cell_type": "code",
   "execution_count": 84,
   "metadata": {},
   "outputs": [
    {
     "name": "stdout",
     "output_type": "stream",
     "text": [
      "[70, 68, 38, 35, 72, 73, 40, 56, 60, 56, 60, 57, 36, 34, 66, 69, 44, 62, 47, 31, 56, 53, 63, 46, 48, 48, 21, 49, 50, 28, 57, 42, 27, 42, 25, 46, 53, 23, 24, 38, 46, 47, 44, 41, 35, 38, 40, 38, 66, 73, 59, 45, 44, 57, 67, 67, 48, 42, 47, 52, 40, 40, 47, 60, 51, 23, 41, 42, 31, 24, 22, 23, 62, 28, 21, 24, 47, 57, 41, 27, 27, 56, 46, 45, 64, 68, 34, 24, 30, 41, 71, 41, 39, 47, 69, 67, 73]\n"
     ]
    }
   ],
   "source": [
    "print(df[(df['年齡']>3)&(df['年齡']<100)]['年齡'].tolist())"
   ]
  },
  {
   "cell_type": "code",
   "execution_count": 85,
   "metadata": {},
   "outputs": [
    {
     "data": {
      "text/html": [
       "<div>\n",
       "<style scoped>\n",
       "    .dataframe tbody tr th:only-of-type {\n",
       "        vertical-align: middle;\n",
       "    }\n",
       "\n",
       "    .dataframe tbody tr th {\n",
       "        vertical-align: top;\n",
       "    }\n",
       "\n",
       "    .dataframe thead th {\n",
       "        text-align: right;\n",
       "    }\n",
       "</style>\n",
       "<table border=\"1\" class=\"dataframe\">\n",
       "  <thead>\n",
       "    <tr style=\"text-align: right;\">\n",
       "      <th></th>\n",
       "      <th>ID</th>\n",
       "      <th>題目一</th>\n",
       "      <th>題目二</th>\n",
       "      <th>題目三</th>\n",
       "      <th>出生</th>\n",
       "      <th>前測</th>\n",
       "      <th>年齡</th>\n",
       "      <th>後測</th>\n",
       "      <th>差值</th>\n",
       "    </tr>\n",
       "  </thead>\n",
       "  <tbody>\n",
       "    <tr>\n",
       "      <th>5</th>\n",
       "      <td>92</td>\n",
       "      <td>O</td>\n",
       "      <td>O</td>\n",
       "      <td>O</td>\n",
       "      <td>1950-11-22</td>\n",
       "      <td>49</td>\n",
       "      <td>73</td>\n",
       "      <td>50</td>\n",
       "      <td>-1</td>\n",
       "    </tr>\n",
       "    <tr>\n",
       "      <th>51</th>\n",
       "      <td>31</td>\n",
       "      <td>O</td>\n",
       "      <td>O</td>\n",
       "      <td>O</td>\n",
       "      <td>1950-12-02</td>\n",
       "      <td>50</td>\n",
       "      <td>73</td>\n",
       "      <td>50</td>\n",
       "      <td>0</td>\n",
       "    </tr>\n",
       "    <tr>\n",
       "      <th>99</th>\n",
       "      <td>87</td>\n",
       "      <td>O</td>\n",
       "      <td>O</td>\n",
       "      <td>O</td>\n",
       "      <td>1950-05-13</td>\n",
       "      <td>50</td>\n",
       "      <td>73</td>\n",
       "      <td>50</td>\n",
       "      <td>0</td>\n",
       "    </tr>\n",
       "  </tbody>\n",
       "</table>\n",
       "</div>"
      ],
      "text/plain": [
       "    ID 題目一 題目二 題目三         出生  前測  年齡  後測  差值\n",
       "5   92   O   O   O 1950-11-22  49  73  50  -1\n",
       "51  31   O   O   O 1950-12-02  50  73  50   0\n",
       "99  87   O   O   O 1950-05-13  50  73  50   0"
      ]
     },
     "execution_count": 85,
     "metadata": {},
     "output_type": "execute_result"
    }
   ],
   "source": [
    "df[df['年齡']==73]"
   ]
  },
  {
   "cell_type": "code",
   "execution_count": null,
   "metadata": {},
   "outputs": [],
   "source": []
  }
 ],
 "metadata": {
  "kernelspec": {
   "display_name": "Python 3",
   "language": "python",
   "name": "python3"
  },
  "language_info": {
   "codemirror_mode": {
    "name": "ipython",
    "version": 3
   },
   "file_extension": ".py",
   "mimetype": "text/x-python",
   "name": "python",
   "nbconvert_exporter": "python",
   "pygments_lexer": "ipython3",
   "version": "3.8.10"
  },
  "orig_nbformat": 4
 },
 "nbformat": 4,
 "nbformat_minor": 2
}
