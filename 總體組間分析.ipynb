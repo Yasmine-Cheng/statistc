{
 "cells": [
  {
   "cell_type": "code",
   "execution_count": 21,
   "metadata": {},
   "outputs": [],
   "source": [
    "group1_before = [49, 49, 48, 49, 50, 49, 49, 45, 50, 50, 50, 50, 49, 49, 50, 50, 49, 50, 46, 49, 50, 45, 50, 50, 44, 49, 50, 50, 50, 50, 50, 47, 50, 50, 49, 50, 50, 50, 50, 44, 44, 50, 48, 46, 50, 50, 48, 49, 50, 50, 49, 50, 50, 49, 49, 50, 48, 49, 47, 47, 50, 50, 50, 50, 50, 49, 49, 48, 49, 50, 50, 50, 50, 50, 50, 50, 50, 50, 50, 50, 50, 43, 50, 50, 50, 50, 49, 50, 50, 50, 49, 48, 48, 50, 47, 50, 50, 50, 50, 50]\n",
    "group1_after = [50, 50, 50, 50, 50, 50, 49, 50, 50, 50, 50, 50, 50, 50, 50, 49, 50, 49, 49, 49, 49, 50, 49, 50, 47, 50, 50, 50, 50, 50, 50, 47, 50, 50, 45, 50, 50, 50, 50, 50, 45, 50, 50, 48, 50, 50, 49, 50, 50, 50, 50, 50, 50, 50, 50, 49, 50, 50, 49, 49, 50, 50, 50, 50, 50, 49, 47, 50, 49, 50, 49, 50, 50, 50, 50, 50, 50, 50, 50, 50, 49, 50, 50, 50, 50, 50, 50, 50, 50, 50, 50, 50, 50, 50, 50, 50, 50, 50, 50, 50]\n",
    "\n",
    "group2_before = [38, 38, 38, 38, 38, 38, 38, 38, 38, 38, 38, 38, 38, 38, 38, 38, 38, 38, 38, 38]\n",
    "group2_after = [38, 38, 38, 38, 38, 38, 38, 38, 37, 38, 38, 38, 38, 38, 38, 38, 38, 38, 38, 38]\n",
    "\n",
    "group3_before = [50, 50, 50, 50, 50, 50, 50, 50, 50, 50, 50, 50, 50, 49, 50, 49, 49, 50, 47]\n",
    "group3_after = [50, 50, 50, 50, 50, 50, 50, 50, 50, 50, 50, 50, 50, 50, 50, 50, 50, 50, 50]"
   ]
  },
  {
   "cell_type": "code",
   "execution_count": 22,
   "metadata": {},
   "outputs": [
    {
     "name": "stdout",
     "output_type": "stream",
     "text": [
      "Shapiro-Wilk p-values for normality:\n",
      "1.8416391933044444e-14 1.1374853425153527e-17\n",
      "1.0 2.6930604413166748e-09\n",
      "4.164090796621167e-07 1.0\n",
      "\n",
      "Levene p-values for homogeneity of variances:\n",
      "0.013329441356824217 0.08108251829124322\n"
     ]
    },
    {
     "name": "stderr",
     "output_type": "stream",
     "text": [
      "/Library/Frameworks/Python.framework/Versions/3.8/lib/python3.8/site-packages/scipy/stats/_morestats.py:1813: UserWarning: Input data for shapiro has range zero. The results may not be accurate.\n",
      "  warnings.warn(\"Input data for shapiro has range zero. The results \"\n"
     ]
    }
   ],
   "source": [
    "from scipy.stats import shapiro, levene\n",
    "\n",
    "# 舉例：group1_before, group1_after1 為第一組的前後測資料\n",
    "# 舉例：group2_before, group2_after1 為第二組的前後測資料\n",
    "# 舉例：group3_before, group3_after1 為第三組的前後測資料\n",
    "\n",
    "# 檢驗常態性\n",
    "_, p_normal_group1_before = shapiro(group1_before)\n",
    "_, p_normal_group1_after = shapiro(group1_after)\n",
    "\n",
    "_, p_normal_group2_before = shapiro(group2_before)\n",
    "_, p_normal_group2_after = shapiro(group2_after)\n",
    "\n",
    "_, p_normal_group3_before = shapiro(group3_before)\n",
    "_, p_normal_group3_after = shapiro(group3_after)\n",
    "\n",
    "# 檢驗變異數同質性\n",
    "_, p_levene_before = levene(group1_before, group2_before, group3_before)\n",
    "_, p_levene_after = levene(group1_after, group2_after, group3_after)\n",
    "\n",
    "print(\"Shapiro-Wilk p-values for normality:\")\n",
    "print(p_normal_group1_before, p_normal_group1_after)\n",
    "print(p_normal_group2_before, p_normal_group2_after)\n",
    "print(p_normal_group3_before, p_normal_group3_after)\n",
    "\n",
    "print(\"\\nLevene p-values for homogeneity of variances:\")\n",
    "print(p_levene_before, p_levene_after)\n"
   ]
  },
  {
   "cell_type": "code",
   "execution_count": 23,
   "metadata": {},
   "outputs": [
    {
     "name": "stdout",
     "output_type": "stream",
     "text": [
      "Shapiro-Wilk statistic: 0.5461575984954834\n",
      "P-value: 1.5295078940923637e-22\n",
      "P-value < 0.05，拒絕虛無假設，樣本可能不來自常態分佈。\n"
     ]
    }
   ],
   "source": [
    "from scipy.stats import shapiro\n",
    "\n",
    "# 假設 group1_before, group1_after1 等是你的資料\n",
    "statistic, p_value = shapiro(group1_before + group1_after)\n",
    "print(\"Shapiro-Wilk statistic:\", statistic)\n",
    "print(\"P-value:\", p_value)\n",
    "\n",
    "# 解讀結果\n",
    "alpha = 0.05\n",
    "if p_value < alpha:\n",
    "    print(\"P-value < 0.05，拒絕虛無假設，樣本可能不來自常態分佈。\")\n",
    "else:\n",
    "    print(\"P-value >= 0.05，無法拒絕虛無假設，樣本可能來自常態分佈。\")"
   ]
  },
  {
   "cell_type": "code",
   "execution_count": 24,
   "metadata": {},
   "outputs": [
    {
     "name": "stdout",
     "output_type": "stream",
     "text": [
      "Shapiro-Wilk statistic: 0.14703071117401123\n",
      "P-value: 6.639825543769753e-14\n",
      "P-value < 0.05，拒絕虛無假設，樣本可能不來自常態分佈。\n"
     ]
    }
   ],
   "source": [
    "from scipy.stats import shapiro\n",
    "\n",
    "# 假設 group1_before, group1_after1 等是你的資料\n",
    "statistic, p_value = shapiro(group2_before + group2_after)\n",
    "print(\"Shapiro-Wilk statistic:\", statistic)\n",
    "print(\"P-value:\", p_value)\n",
    "\n",
    "# 解讀結果\n",
    "alpha = 0.05\n",
    "if p_value < alpha:\n",
    "    print(\"P-value < 0.05，拒絕虛無假設，樣本可能不來自常態分佈。\")\n",
    "else:\n",
    "    print(\"P-value >= 0.05，無法拒絕虛無假設，樣本可能來自常態分佈。\")"
   ]
  },
  {
   "cell_type": "code",
   "execution_count": 25,
   "metadata": {},
   "outputs": [
    {
     "name": "stdout",
     "output_type": "stream",
     "text": [
      "Shapiro-Wilk statistic: 0.3258543014526367\n",
      "P-value: 5.0804404086446375e-12\n",
      "P-value < 0.05，拒絕虛無假設，樣本可能不來自常態分佈。\n"
     ]
    }
   ],
   "source": [
    "from scipy.stats import shapiro\n",
    "\n",
    "# 假設 group1_before, group1_after1 等是你的資料\n",
    "statistic, p_value = shapiro(group3_before + group3_after)\n",
    "print(\"Shapiro-Wilk statistic:\", statistic)\n",
    "print(\"P-value:\", p_value)\n",
    "\n",
    "# 解讀結果\n",
    "alpha = 0.05\n",
    "if p_value < alpha:\n",
    "    print(\"P-value < 0.05，拒絕虛無假設，樣本可能不來自常態分佈。\")\n",
    "else:\n",
    "    print(\"P-value >= 0.05，無法拒絕虛無假設，樣本可能來自常態分佈。\")"
   ]
  },
  {
   "cell_type": "code",
   "execution_count": 26,
   "metadata": {},
   "outputs": [
    {
     "name": "stdout",
     "output_type": "stream",
     "text": [
      "kruskal statistic: 146.9744899071853\n",
      "P-value: 5.880454815026438e-30\n",
      "統計上顯著，可以拒絕虛無假設，表示有差異。\n"
     ]
    }
   ],
   "source": [
    "from scipy.stats import kruskal\n",
    "\n",
    "# 使用kruskal測試\n",
    "statistic, p_value = kruskal(group1_before, group1_after,\n",
    "                                       group2_before, group2_after,\n",
    "                                       group3_before, group3_after)\n",
    "\n",
    "# 顯示結果\n",
    "print(\"kruskal statistic:\", statistic)\n",
    "print(\"P-value:\", p_value)\n",
    "\n",
    "# 判斷結果是否顯著\n",
    "alpha = 0.05\n",
    "if p_value < alpha:\n",
    "    print(\"統計上顯著，可以拒絕虛無假設，表示有差異。\")\n",
    "else:\n",
    "    print(\"統計上不顯著，不能拒絕虛無假設，表示沒有差異。\")"
   ]
  },
  {
   "cell_type": "code",
   "execution_count": 27,
   "metadata": {},
   "outputs": [
    {
     "name": "stdout",
     "output_type": "stream",
     "text": [
      "專業人員筆數： 100\n",
      "機構住戶筆數： 20\n",
      "機構住戶家屬筆數： 19\n"
     ]
    }
   ],
   "source": [
    "print('專業人員筆數：',str(len(group1_before)))\n",
    "print('機構住戶筆數：',str(len(group2_before)))\n",
    "print('機構住戶家屬筆數：',str(len(group3_before)))"
   ]
  },
  {
   "cell_type": "code",
   "execution_count": 28,
   "metadata": {},
   "outputs": [
    {
     "name": "stdout",
     "output_type": "stream",
     "text": [
      "專業人員佔比： 71.94244604316546 %\n",
      "機構住戶佔比： 14.388489208633093 %\n",
      "機構住戶家屬佔比： 13.66906474820144 %\n"
     ]
    }
   ],
   "source": [
    "print('專業人員佔比：',str(len(group1_before)/(len(group1_before)+len(group2_before)+len(group3_before))*100), '%')\n",
    "print('機構住戶佔比：',str(len(group2_before)/(len(group1_before)+len(group2_before)+len(group3_before))*100), '%')\n",
    "print('機構住戶家屬佔比：',str(len(group3_before)/(len(group1_before)+len(group2_before)+len(group3_before))*100), '%')"
   ]
  },
  {
   "cell_type": "code",
   "execution_count": null,
   "metadata": {},
   "outputs": [],
   "source": []
  }
 ],
 "metadata": {
  "kernelspec": {
   "display_name": "Python 3",
   "language": "python",
   "name": "python3"
  },
  "language_info": {
   "codemirror_mode": {
    "name": "ipython",
    "version": 3
   },
   "file_extension": ".py",
   "mimetype": "text/x-python",
   "name": "python",
   "nbconvert_exporter": "python",
   "pygments_lexer": "ipython3",
   "version": "3.8.10"
  },
  "orig_nbformat": 4
 },
 "nbformat": 4,
 "nbformat_minor": 2
}
